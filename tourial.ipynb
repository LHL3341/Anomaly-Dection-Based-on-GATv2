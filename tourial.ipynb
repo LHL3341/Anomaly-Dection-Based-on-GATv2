{
 "cells": [
  {
   "cell_type": "code",
   "execution_count": null,
   "metadata": {},
   "outputs": [],
   "source": [
    "from ast import arg\n",
    "from distutils.command.config import config\n",
    "from email import parser\n",
    "import os\n",
    "import argparse\n",
    "import torch\n",
    "\n",
    "from detector import Detector\n",
    "\n",
    "parser = argparse.ArgumentParser()\n",
    "\n",
    "parser.add_argument('--num_epochs', type=int, default=50)\n",
    "parser.add_argument('--pretrained_epochs',type = int,default=49)\n",
    "parser.add_argument('--lr', type=float, default=1e-3)\n",
    "parser.add_argument('--dropout', type=int, default=0.2)\n",
    "parser.add_argument('--batch_size', type=int, default=16)\n",
    "parser.add_argument('--mode', type=str, default='test', choices=['train', 'test'])\n",
    "parser.add_argument('--device', type=str, default='cpu')\n",
    "parser.add_argument('--dataset', type=str, default='msl')\n",
    "parser.add_argument('--win_size', type=int, default=15)\n",
    "parser.add_argument('--predict_len', type=int, default=12)\n",
    "parser.add_argument('--feature_num', type=int, default=27)\n",
    "parser.add_argument('--hidden_size', type=int, default=64)\n",
    "parser.add_argument('--gamma', type=int, default=0.5)\n",
    "parser.add_argument('--save_path', type=str, default='result')\n",
    "\n",
    "parser.add_argument('--em_type', type=str, default='rnn')\n",
    "parser.add_argument('--emb_size', type=int, default=15)\n",
    "parser.add_argument('--graph_type', type=str, default='full')\n",
    "parser.add_argument('--gat_heads', type=int, default=1)\n",
    "\n",
    "parser.add_argument('--recon_m', type=str, default='attn')\n",
    "parser.add_argument('--forecast_m', type=str, default='mlp')\n",
    "\n",
    "parser.add_argument('--attn_heads', type=int, default=1)\n",
    "\n",
    "parser.add_argument('--mlp_layer', type=int, default=2)\n",
    "\n",
    "parser.add_argument('--show_l_figure', type=bool, default=True)\n",
    "\n",
    "config =parser.parse_args([])\n",
    "args = vars(config)\n",
    "\n",
    "if args['device'] == 'cuda':\n",
    "    os.environ['CUDA_VISIBLE_DEVICES'] = '0'\n",
    "    torch.backends.cudnn.benchmark=True\n",
    "\n",
    "detector = Detector(args)"
   ]
  },
  {
   "cell_type": "code",
   "execution_count": null,
   "metadata": {},
   "outputs": [],
   "source": [
    "detector.test()"
   ]
  }
 ],
 "metadata": {
  "kernelspec": {
   "display_name": "Python 3",
   "language": "python",
   "name": "python3"
  },
  "language_info": {
   "codemirror_mode": {
    "name": "ipython",
    "version": 3
   },
   "file_extension": ".py",
   "mimetype": "text/x-python",
   "name": "python",
   "nbconvert_exporter": "python",
   "pygments_lexer": "ipython3",
   "version": "3.6.13"
  },
  "orig_nbformat": 4,
  "vscode": {
   "interpreter": {
    "hash": "e042e6b042e950f079cd5986c80d9d3fe78fe88e46b586e05a9c4d8baad6aac6"
   }
  }
 },
 "nbformat": 4,
 "nbformat_minor": 2
}
